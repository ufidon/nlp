{
 "cells": [
  {
   "cell_type": "markdown",
   "metadata": {},
   "source": [
    "<table align=\"left\">\n",
    "  <td>\n",
    "    <a href=\"https://colab.research.google.com/github/ufidon/nlp/blob/main/01.tned.ipynb\" target=\"_parent\"><img src=\"https://colab.research.google.com/assets/colab-badge.svg\" alt=\"Open In Colab\"/></a>\n",
    "  </td>\n",
    "  <td>\n",
    "    <a target=\"_blank\" href=\"https://kaggle.com/kernels/welcome?src=https://github.com/ufidon/nlp/blob/main/01.tned.ipynb\"><img src=\"https://kaggle.com/static/images/open-in-kaggle.svg\" /></a>\n",
    "  </td>\n",
    "</table>\n",
    "<br>\n",
    "\n",
    "# Text Normalization, Edit Distance\n",
    "\n",
    "📝 SALP chapter 2"
   ]
  },
  {
   "cell_type": "markdown",
   "metadata": {},
   "source": [
    "## What is Sentence Segmentation?\n",
    "- **Sentence Segmentation** is the process of dividing a corpus (a large collection of text) into individual sentences.\n",
    "  - Typically, sentences are separated by **punctuation marks** such as periods (.), exclamation marks (!), or question marks (?).\n",
    "- Challenges\n",
    "  - **Abbreviations:** e.g., \"Dr.\", \"etc.\", \"Mr.\" could be mistaken as sentence boundaries.\n",
    "  - **Quotes and Parentheses:** Sentences within quotes or parentheses can create ambiguity.\n",
    "  - **Ellipses:** Ellipsis (...) can be mistaken as multiple sentence boundaries.\n",
    "\n",
    "- 🍎 Segment text into sentences"
   ]
  },
  {
   "cell_type": "code",
   "execution_count": null,
   "metadata": {},
   "outputs": [],
   "source": [
    "import nltk\n",
    "nltk.download('punkt')\n",
    "nltk.download('punkt_tab')\n",
    "from nltk.tokenize import sent_tokenize\n",
    "\n",
    "text = \"Mr. Smith went to Washington. He enjoyed his time there.\"\n",
    "sentences = sent_tokenize(text)\n",
    "print(sentences)"
   ]
  },
  {
   "cell_type": "markdown",
   "metadata": {},
   "source": [
    "## Segmenting Sentences into Words\n",
    "- **Word Tokenization** is the process of breaking down a sentence into individual words or tokens.\n",
    "- Word tokenization helps in identifying the `basic units of meaning` in a text.\n",
    "- Challenges\n",
    "  - **Contractions:** e.g., \"don't\" can be split into \"do\" and \"n't\".\n",
    "  - **Hyphenated Words:** e.g., \"state-of-the-art\" could be considered one word or multiple words.\n",
    "- 🍎 segment a sentence into words"
   ]
  },
  {
   "cell_type": "code",
   "execution_count": null,
   "metadata": {},
   "outputs": [],
   "source": [
    "from nltk.tokenize import word_tokenize\n",
    "\n",
    "sentence = \"Mr. Smith went to Washington.\"\n",
    "words = word_tokenize(sentence)\n",
    "print(words)"
   ]
  },
  {
   "cell_type": "markdown",
   "metadata": {},
   "source": [
    "## Punctuation in Segmentation\n",
    "- **Sentence Segmentation:** Periods, exclamation marks, and question marks usually denote the end of a sentence.\n",
    "- **Word Tokenization:** Punctuation marks like commas, semicolons, and quotes are often separated from the words they are attached to.\n",
    "- 🍎\n",
    "  - Sentence: \"Hello, world!\"\n",
    "  - Tokenized: [\"Hello\", \",\", \"world\", \"!\"]\n",
    "- Whether to keep or discard punctuation depends on the task. \n",
    "  - For sentiment analysis, punctuation can carry important emotional context."
   ]
  },
  {
   "cell_type": "markdown",
   "metadata": {},
   "source": [
    "## Spoken Language Components\n",
    "- **Utterances:** A complete unit of speech that may not be grammatically correct.\n",
    "- **Disfluencies:** Interruptions in the flow of speech, e.g., \"uh,\" \"um,\" \"you know.\"\n",
    "- **Fragments:** Incomplete sentences or phrases.\n",
    "- **Fillers:** Words or sounds that fill gaps in speech but do not add meaning, e.g., \"like,\" \"you know.\"\n",
    "- **Filled Pauses:** Prolonged sounds such as \"uhhh\" or \"ummm.\"\n",
    "- 🍎\n",
    "  - Utterance: \"Well, I... I think, um, it's great!\"\n",
    "  - Tokenized: [\"Well\", \",\", \"I\", \"...\", \"I\", \"think\", \",\", \"um\", \",\", \"it's\", \"great\", \"!\"]\n",
    "- Disfluencies may signal that the speaker is restarting the clause or idea\n",
    "  - helpful in speech recognition in predicting the upcoming word\n",
    "  - treated as regular words in such cases"
   ]
  },
  {
   "cell_type": "markdown",
   "metadata": {},
   "source": [
    "## Word Types vs. Word Instances\n",
    "- Word Types\n",
    "  - **Word Types** refer to distinct words in a text, ignoring repetition.\n",
    "  - 🍎: In the text \"cat cat dog,\" \"cat\" and \"dog\" are the word types.\n",
    "- Word Instances\n",
    "  - **Word Instances** refer to the total occurrences of words in a text.\n",
    "  - 🍎: In the text \"cat cat dog,\" there are 3 word instances: two \"cat\" and one \"dog.\""
   ]
  },
  {
   "cell_type": "markdown",
   "metadata": {},
   "source": [
    "## Case Sensitivity in Word Types\n",
    "- **Case Sensitivity:** \n",
    "  - In some NLP tasks, \"Word\" and \"word\" may be considered different types.\n",
    "  - This distinction is important in cases where capitalization changes meaning\n",
    "    - e.g., \"Apple\" (company) vs. \"apple\" (fruit).\n",
    "- **Normalization:** \n",
    "  - Often, texts are normalized to lowercase to treat \"Word\" and \"word\" as the same type for tasks like `word frequency analysis`.\n",
    "\n",
    "- 🍎 case sensitivity"
   ]
  },
  {
   "cell_type": "code",
   "execution_count": null,
   "metadata": {},
   "outputs": [],
   "source": [
    "words = [\"Word\", \"word\", \"Apple\", \"apple\"]\n",
    "lowercase_words = [word.lower() for word in words]\n",
    "print(set(lowercase_words)) "
   ]
  },
  {
   "cell_type": "markdown",
   "metadata": {},
   "source": [
    "| **Corpus Name**       | **Word Instances** | **Word Types**  | **Description**                                                                 |\n",
    "|-----------------------|--------------------|-----------------|---------------------------------------------------------------------------------|\n",
    "| **Brown Corpus**      | ~1,000,000         | ~50,000         | The first million-word electronic corpus of American English.                   |\n",
    "| **Penn Treebank**     | ~4,500,000         | ~100,000        | Annotated corpus of English, primarily used for training NLP models.            |\n",
    "| **British National Corpus (BNC)** | ~100,000,000      | ~600,000        | A wide range of modern British English (spoken and written).                    |\n",
    "| **COCA (Corpus of Contemporary American English)** | ~1,000,000,000   | ~450,000        | Largest freely available corpus of American English, covering 1990-2019.        |\n",
    "| **Google Ngrams**     | ~500,000,000,000   | ~13,588,391     | Dataset of n-grams (1 to 5 words) from scanned books dating from 1500-2008.     |\n",
    "| **Reuters Corpus**    | ~810,000           | ~30,000         | Collection of news documents used for text classification and NLP research.     |\n",
    "| **Wikipedia Corpus**  | ~1,000,000,000+    | ~20,000,000+    | Continuously updated corpus of Wikipedia articles, covering a vast range of topics. |\n",
    "| **Gutenberg Corpus**  | ~25,000,000        | ~200,000        | Collection of classic literature and historical texts available as eBooks.      |"
   ]
  },
  {
   "cell_type": "markdown",
   "metadata": {},
   "source": [
    "## 🏃 Explore [Google N-grams Corpus](https://books.google.com/ngrams/info) \n",
    "- an extensive dataset consisting of n-grams (sequences of 1 to 5 words) derived from a large corpus of books scanned by Google\n",
    "- contain around 500 billion word instances, over 13 million unique word types\n",
    "- [Google books syntactic N-grams](https://commondatastorage.googleapis.com/books/syntactic-ngrams/index.html)"
   ]
  },
  {
   "cell_type": "markdown",
   "metadata": {},
   "source": [
    "## Herdan’s Law (Heaps’ Law)\n",
    "- crucial for predicting vocabulary growth in linguistics and NLP\n",
    "- as a text corpus grows, vocabulary size increases at a diminishing rate\n",
    "- **Formal Definition:**\n",
    "  - the vocabulary size $V$ grows as a sublinear power-law function of the number of word tokens $N$ in the corpus:\n",
    "  - $ V(N) = k \\times N^\\beta $\n",
    "    - $ V(N) $ is the number of distinct word types (vocabulary size).\n",
    "    - $ N $ is the total number of word tokens.\n",
    "    - $ k $ is a constant that depends on the corpus.\n",
    "    - $ 0 < \\beta <1 $ is an exponent that usually ranges between 0.4 and 0.6.\n",
    "-  **Key Points:**\n",
    "   - **Sublinear Growth**: \n",
    "     - As more words are added to the corpus, the rate of new word types (unique words) discovered decreases. \n",
    "     - Initially, the vocabulary grows quickly, but over time, as more text is added, the discovery of new unique words slows down.\n",
    "   - **Vocabulary Saturation**: \n",
    "     - In any given language, there is a finite number of commonly used words. \n",
    "     - As the corpus size increases, fewer and fewer new words are encountered, and the vocabulary growth rate diminishes.\n",
    "   - **Implications for Language Models**: \n",
    "     - Even with large corpora, the vocabulary size will not grow indefinitely and will eventually plateau."
   ]
  },
  {
   "cell_type": "markdown",
   "metadata": {},
   "source": [
    "## Wordform and Lemma\n",
    "- A **wordform** is the specific written or spoken version of a word\n",
    "  - including its tense, case, number, or mood, depending on the language.\n",
    "  - 🍎\n",
    "    - *Runs, running, ran* are different wordforms of the verb *run*.\n",
    "    - *Cats, cat's, cats'* are different wordforms of the noun *cat*\n",
    "- A **lemma** is the canonical or dictionary form of a word\n",
    "  - representing all its possible wordforms.\n",
    "  - the base or root form used to look up words in dictionaries.\n",
    "  - often used in linguistic analysis to group different wordforms together.\n",
    "  - 🍎\n",
    "    - The lemma for the wordforms *runs, running, ran* is *run*.\n",
    "    - The lemma for the wordforms *cats, cat's, cats'* is *cat*.\n",
    "- The process of converting a wordform into its lemma is called **lemmatization**"
   ]
  },
  {
   "cell_type": "markdown",
   "metadata": {},
   "source": [
    "## Unix Tools for Word Tokenization\n",
    "- `tr` (translate): Convert or delete characters in text.\n",
    "- `cut`: Remove sections from each line of files or input.\n",
    "- `awk`: Pattern scanning and processing language.\n",
    "- `grep`: Search for patterns in text.\n",
    "  - 🍎 Tokenizing a text file\n",
    "    ```bash\n",
    "    grep -oE '\\w+' input.txt > tokens.txt\n",
    "    ```"
   ]
  },
  {
   "cell_type": "code",
   "execution_count": null,
   "metadata": {
    "vscode": {
     "languageId": "shellscript"
    }
   },
   "outputs": [],
   "source": [
    "%%bash\n",
    "# 1. `tr` replaces spaces with newlines\n",
    "echo \"Hello, world! How are you?\" | tr -s ' ' '\\n'"
   ]
  },
  {
   "cell_type": "code",
   "execution_count": null,
   "metadata": {
    "vscode": {
     "languageId": "shellscript"
    }
   },
   "outputs": [],
   "source": [
    "%%bash\n",
    "# 2. `cut` splits the text using a space as a delimiter and extracts the first word.\n",
    "echo \"Hello, world! How are you?\" | cut -d ' ' -f 1"
   ]
  },
  {
   "cell_type": "code",
   "execution_count": null,
   "metadata": {
    "vscode": {
     "languageId": "shellscript"
    }
   },
   "outputs": [],
   "source": [
    "%%bash\n",
    "# 3. `awk` prints each word separately by iterating over fields (`$i`)\n",
    "echo \"Hello, world! How are you?\" | awk '{for(i=1;i<=NF;i++) print $i}'"
   ]
  },
  {
   "cell_type": "code",
   "execution_count": null,
   "metadata": {
    "vscode": {
     "languageId": "shellscript"
    }
   },
   "outputs": [],
   "source": [
    "%%bash\n",
    "# 4. `grep` finds and prints each word matching the regex pattern `\\w+` (alphanumeric characters).\n",
    "echo \"Hello, world! How are you?\" | grep -oE '\\w+'"
   ]
  },
  {
   "cell_type": "code",
   "execution_count": null,
   "metadata": {
    "vscode": {
     "languageId": "shellscript"
    }
   },
   "outputs": [],
   "source": [
    "%%bash\n",
    "# 5. Combining `tr` and `awk`\n",
    "# - `tr -s ' ' '\\n'` tokenizes by spaces.\n",
    "# - `awk '{print tolower($0)}'` converts each token to lowercase.\n",
    "\n",
    "echo \"Hello, world! How are you?\" | tr -s ' ' '\\n' | awk '{print tolower($0)}'"
   ]
  },
  {
   "cell_type": "markdown",
   "metadata": {},
   "source": [
    "## 🏃 Practice"
   ]
  },
  {
   "cell_type": "code",
   "execution_count": null,
   "metadata": {
    "vscode": {
     "languageId": "shellscript"
    }
   },
   "outputs": [],
   "source": [
    "%%bash\n",
    "# 0. Download [Shakespeare's](https://www.gutenberg.org/cache/epub/100/pg100.txt) works in a text file, save it as `sh.txt`\n",
    "wget -O sh.txt https://www.gutenberg.org/cache/epub/100/pg100.txt \n",
    "# 1. ‘squeezed’ a series of non-alphabetic characters in a row into a single newline\n",
    "tr -sc 'A-Za-z' '\\n' < sh.txt # sh.txt contains all Shakespeare's works\n",
    "# 2. find the vocabulary of Shakespeare's works\n",
    "tr -sc 'A-Za-z' '\\n' < sh.txt | sort | uniq -c\n",
    "# 3. convert Shakespeare's vocabulary into lowercase\n",
    "tr -sc 'A-Za-z' '\\n' < sh.txt | tr A-Z a-z | sort | uniq -c\n",
    "# 4. find frequent words\n",
    "tr -sc 'A-Za-z' '\\n' < sh.txt | tr A-Z a-z | sort | uniq -c | sort -n -r > corpus.txt\n"
   ]
  },
  {
   "cell_type": "markdown",
   "metadata": {},
   "source": [
    "## Tokenization Methods in NLP\n",
    "- Top-down (Rule-based) Tokenization\n",
    "  - Uses predefined rules to split text into tokens\n",
    "  - Typically faster but less flexible than machine learning approaches\n",
    "  - Penn Treebank Tokenization\n",
    "    - Developed for the [Penn Treebank Project](https://catalog.ldc.upenn.edu/LDC99T42)\n",
    "    - Specific rules for English text\n",
    "\n",
    "🍎"
   ]
  },
  {
   "cell_type": "code",
   "execution_count": null,
   "metadata": {},
   "outputs": [],
   "source": [
    "from nltk.tokenize import word_tokenize\n",
    "\n",
    "text = \"Don't hesitate to email john.doe@example.com\"\n",
    "tokens = word_tokenize(text)\n",
    "print(tokens)\n"
   ]
  },
  {
   "cell_type": "markdown",
   "metadata": {},
   "source": [
    "### 🍎 NLTK RegexpTokenizer\n",
    "- Uses regular expressions for flexible tokenization"
   ]
  },
  {
   "cell_type": "code",
   "execution_count": null,
   "metadata": {},
   "outputs": [],
   "source": [
    "from nltk.tokenize import RegexpTokenizer\n",
    "\n",
    "text = \"Hello, world! How's it going?\"\n",
    "tokenizer = RegexpTokenizer(r'\\w+')\n",
    "tokens = tokenizer.tokenize(text)\n",
    "print(tokens)"
   ]
  },
  {
   "cell_type": "markdown",
   "metadata": {},
   "source": [
    "## Chinese, Korean, and Japanese Tokenization\n",
    "\n",
    "- These languages don't use spaces between words\n",
    "- Requires specialized algorithms\n",
    "- Chinese Tokenization\n",
    "  - Uses techniques like maximum matching or statistical models\n",
    "- Korean Tokenization\n",
    "  - Considers complex morphological structure\n",
    "- Japanese Tokenization\n",
    "  - Uses dictionary-based approaches or statistical models"
   ]
  },
  {
   "cell_type": "code",
   "execution_count": null,
   "metadata": {},
   "outputs": [],
   "source": [
    "# Check if jieba is installed on Google Colab\n",
    "import sys\n",
    "in_colab = 'google.colab' in sys.modules\n",
    "jieba_installed = 'jieba' in sys.modules\n",
    "\n",
    "if in_colab and not jieba_installed:\n",
    "    print(\"jieba is not installed. Installing now...\")\n",
    "    %pip install jieba"
   ]
  },
  {
   "cell_type": "code",
   "execution_count": null,
   "metadata": {},
   "outputs": [],
   "source": [
    "# 🍎 1. Tokenize Chinese using jieba library\n",
    "\n",
    "import jieba\n",
    "\n",
    "text = \"我喜欢自然语言处理\"\n",
    "tokens = jieba.cut(text)\n",
    "print(list(tokens))"
   ]
  },
  {
   "cell_type": "markdown",
   "metadata": {},
   "source": [
    "## Bottom-up Tokenization Algorithms\n",
    "- also called Subword tokenization methods \n",
    "- efficiently handle rare words and out-of-vocabulary terms\n",
    "- [Byte-Pair Encoding (BPE)](https://en.wikipedia.org/wiki/Byte_pair_encoding)\n",
    "  - Merges the most frequent pair of bytes or characters until a desired vocabulary size is reached\n",
    "  - 🍎 Word `\"lower\"` could be split into `\"low\"` + `\"er\"` if `\"lower\"` is rare but `\"low\"` and `\"er\"` are common.\n",
    "- `Unigram Language Modeling (SentencePiece)`\n",
    "  - Instead of merging, it starts with a large set of potential subword units.\n",
    "  - Find the subset of subword units that maximizes the likelihood of the training data."
   ]
  },
  {
   "cell_type": "markdown",
   "metadata": {},
   "source": [
    "###  **Comparison: BPE vs. Unigram Language Modeling**\n",
    "- **BPE**:\n",
    "  - **Deterministic**: Iteratively merges most frequent pairs.\n",
    "  - **Example**: `\"lowered\"` → `\"low\"` + `\"ered\"`.\n",
    "\n",
    "- **Unigram**:\n",
    "  - **Probabilistic**: Selects subwords to maximize likelihood.\n",
    "  - **Example**: `\"lowered\"` → `\"low\"` + `\"ered\"` based on likelihood."
   ]
  },
  {
   "cell_type": "code",
   "execution_count": null,
   "metadata": {},
   "outputs": [],
   "source": [
    "# 🍎 1. BPE in Python\n",
    "\n",
    "from tokenizers import Tokenizer, models, trainers\n",
    "\n",
    "tokenizer = Tokenizer(models.BPE())\n",
    "trainer = trainers.BpeTrainer(vocab_size=5000)\n",
    "tokenizer.train([\"corpus.txt\"], trainer)\n",
    "encoded = tokenizer.encode(\"lowered\")\n",
    "print(encoded.tokens)"
   ]
  },
  {
   "cell_type": "code",
   "execution_count": null,
   "metadata": {},
   "outputs": [],
   "source": [
    "# 🍎 2. Unigram in Python\n",
    "\n",
    "import sentencepiece as spm\n",
    "\n",
    "spm.SentencePieceTrainer.train(input='corpus.txt', model_prefix='m', vocab_size=5000, model_type='unigram')\n",
    "sp = spm.SentencePieceProcessor(model_file='m.model')\n",
    "print(sp.encode_as_pieces(\"lowered\"))"
   ]
  },
  {
   "cell_type": "markdown",
   "metadata": {},
   "source": [
    "\n",
    "\n",
    "## ⚠️ In neural networks\n",
    "  - Words are `NOT` used as the internal unit of representation at all! \n",
    "  - The input strings are tokenized into words even `only parts` of words."
   ]
  },
  {
   "cell_type": "markdown",
   "metadata": {},
   "source": [
    "## Byte-Pair Encoding (BPE)\n",
    "\n",
    "- Initially developed as a text compression algorithm.\n",
    "- Adopted by OpenAI for tokenization in the GPT models.\n",
    "- used in GPT, GPT-2, RoBERTa, BART, DeBERTa.\n",
    "\n",
    "---\n",
    "\n",
    "### **The BPE Training Algorithm**\n",
    "\n",
    "- **Step 1**: Compute the unique set of words in the corpus after normalization and pre-tokenization.\n",
    "- **Step 2**: Build the initial vocabulary from all symbols used in these words.\n",
    "- **Example Corpus**: \"hug\", \"pug\", \"pun\", \"bun\", \"hugs\".\n",
    "- **Initial Vocabulary**: [\"b\", \"g\", \"h\", \"n\", \"p\", \"s\", \"u\"].\n",
    "- **Real-World Vocabulary**: ASCII characters and possibly Unicode.\n",
    "\n",
    "---\n",
    "\n",
    "### **Byte-Level BPE**\n",
    "\n",
    "- **Purpose**: Handles all characters by using bytes instead of Unicode.\n",
    "- **Base Vocabulary Size**: 256 (for all byte values).\n",
    "- **Advantage**: Avoids unknown tokens for unseen characters.\n",
    "\n",
    "---\n",
    "\n",
    "### **BPE Merge Process**\n",
    "\n",
    "- **Step 1**: Identify the most frequent pair of tokens in the corpus.\n",
    "- **Step 2**: Merge the pair into a new token.\n",
    "- **Repeat**: Continue until the desired vocabulary size is reached.\n",
    "\n",
    "---\n",
    "\n",
    "### 🍎 **Example of BPE Merging**\n",
    "\n",
    "- **Corpus Frequencies (word, frequency)**:\n",
    "  - (\"hug\", 10), (\"pug\", 5), (\"pun\", 12), (\"bun\", 4), (\"hugs\", 5)\n",
    "  - (\"h\" \"u\" \"g\", 10), (\"p\" \"u\" \"g\", 5), (\"p\" \"u\" \"n\", 12), (\"b\" \"u\" \"n\", 4), (\"h\" \"u\" \"g\" \"s\", 5)\n",
    "- **Merge 1**: Identify and merge the most frequent pair.\n",
    "  - **First Pair**: ((\"u\", \"g)\", 20) → (\"ug\", 20).\n",
    "  - **Updated Vocabulary**: [\"b\", \"g\", \"h\", \"n\", \"p\", \"s\", \"u\", \"ug\"].\n",
    "  - **Updated Corpus**: (\"h\" \"ug\", 10), (\"p\" \"ug\", 5), (\"p\" \"u\" \"n\", 12), (\"b\" \"u\" \"n\", 4), (\"h\" \"ug\" \"s\", 5)\n",
    "- **Merge 2**: Identify next most frequent pair.\n",
    "  - **Second Pair**: ((\"u\", \"n\"), 16) → \"un\".\n",
    "  - **Updated Vocabulary**: [\"b\", \"g\", \"h\", \"n\", \"p\", \"s\", \"u\", \"ug\", \"un\"].\n",
    "  - **Updated Corpus**: (\"h\" \"ug\", 10), (\"p\" \"ug\", 5), (\"p\" \"un\", 12), (\"b\" \"un\", 4), (\"h\" \"ug\" \"s\", 5)\n",
    "- **Merge 3**: Continue merging until vocabulary size is reached.\n",
    "  - **Next Pair**: ((\"h\", \"ug\"), 15) → \"hug\".\n",
    "  - **Updated Vocabulary**: [\"b\", \"g\", \"h\", \"n\", \"p\", \"s\", \"u\", \"ug\", \"un\", \"hug\"].\n",
    "  - **Updated Corpus**: (\"hug\", 10), (\"p\" \"ug\", 5), (\"p\" \"un\", 12), (\"b\" \"un\", 4), (\"hug\" \"s\", 5)\n",
    "- **Continue like this** until we reach the desired vocabulary size."
   ]
  },
  {
   "cell_type": "markdown",
   "metadata": {},
   "source": [
    "### Tokenization Algorithm\n",
    "\n",
    "New inputs are tokenized closely following the BPE training process:\n",
    "\n",
    "1. **Normalization**: The input text is normalized.\n",
    "2. **Pre-tokenization**: The normalized text is split into words.\n",
    "3. **Character Splitting**: Each word is split into individual characters.\n",
    "4. **Applying Merge Rules**: The learned BPE merge rules are applied in sequence to the split characters.\n",
    "\n",
    "### 🍎**Example**:\n",
    "- **Merge Rules Learned**:\n",
    "  - (\"u\", \"g\") → \"ug\"\n",
    "  - (\"u\", \"n\") → \"un\"\n",
    "  - (\"h\", \"ug\") → \"hug\"\n",
    "  \n",
    "- **Tokenization**:\n",
    "  - \"bug\" → [\"b\", \"ug\"]\n",
    "  - \"mug\" → [\"[UNK]\", \"ug\"] (since \"m\" is not in the base vocabulary)\n",
    "  - \"thug\" → [\"[UNK]\", \"hug\"] (since \"t\" is not in the base vocabulary)"
   ]
  },
  {
   "cell_type": "markdown",
   "metadata": {},
   "source": [
    "### A simplified BPE implementation\n",
    "\n",
    "1. **Create a Corpus**: \n",
    "   - Example sentences are used to form a basic corpus:"
   ]
  },
  {
   "cell_type": "code",
   "execution_count": 1,
   "metadata": {},
   "outputs": [],
   "source": [
    "corpus = [\n",
    "    \"This is the Hugging Face Course.\",\n",
    "    \"This chapter is about tokenization.\",\n",
    "    \"This section shows several tokenizer algorithms.\",\n",
    "    \"Hopefully, you will be able to understand how they are trained and generate tokens.\",\n",
    "]"
   ]
  },
  {
   "cell_type": "markdown",
   "metadata": {},
   "source": [
    "2. **Pre-tokenization**:\n",
    "   - Use a pre-trained tokenizer (like GPT-2) to split the corpus into words."
   ]
  },
  {
   "cell_type": "code",
   "execution_count": 2,
   "metadata": {},
   "outputs": [
    {
     "data": {
      "application/vnd.jupyter.widget-view+json": {
       "model_id": "6c1934770d344b01a7a6dd9a557011e5",
       "version_major": 2,
       "version_minor": 0
      },
      "text/plain": [
       "tokenizer_config.json:   0%|          | 0.00/26.0 [00:00<?, ?B/s]"
      ]
     },
     "metadata": {},
     "output_type": "display_data"
    },
    {
     "data": {
      "application/vnd.jupyter.widget-view+json": {
       "model_id": "1a348a7814574a2aaad67960a8c9ab5e",
       "version_major": 2,
       "version_minor": 0
      },
      "text/plain": [
       "config.json:   0%|          | 0.00/665 [00:00<?, ?B/s]"
      ]
     },
     "metadata": {},
     "output_type": "display_data"
    },
    {
     "data": {
      "application/vnd.jupyter.widget-view+json": {
       "model_id": "9880c18a61a74e7b9fa665487f16ad0f",
       "version_major": 2,
       "version_minor": 0
      },
      "text/plain": [
       "vocab.json:   0%|          | 0.00/1.04M [00:00<?, ?B/s]"
      ]
     },
     "metadata": {},
     "output_type": "display_data"
    },
    {
     "data": {
      "application/vnd.jupyter.widget-view+json": {
       "model_id": "b7a684b03b804126b328324a07ed55f6",
       "version_major": 2,
       "version_minor": 0
      },
      "text/plain": [
       "merges.txt:   0%|          | 0.00/456k [00:00<?, ?B/s]"
      ]
     },
     "metadata": {},
     "output_type": "display_data"
    },
    {
     "data": {
      "application/vnd.jupyter.widget-view+json": {
       "model_id": "c78dd93949e24eb793bc406ff6a21fa3",
       "version_major": 2,
       "version_minor": 0
      },
      "text/plain": [
       "tokenizer.json:   0%|          | 0.00/1.36M [00:00<?, ?B/s]"
      ]
     },
     "metadata": {},
     "output_type": "display_data"
    },
    {
     "name": "stderr",
     "output_type": "stream",
     "text": [
      "/opt/micromamba/envs/ml/lib/python3.12/site-packages/transformers/tokenization_utils_base.py:1601: FutureWarning: `clean_up_tokenization_spaces` was not set. It will be set to `True` by default. This behavior will be depracted in transformers v4.45, and will be then set to `False` by default. For more details check this issue: https://github.com/huggingface/transformers/issues/31884\n",
      "  warnings.warn(\n"
     ]
    }
   ],
   "source": [
    "from transformers import AutoTokenizer\n",
    "tokenizer = AutoTokenizer.from_pretrained(\"gpt2\")"
   ]
  },
  {
   "cell_type": "markdown",
   "metadata": {},
   "source": [
    "3. **Compute Word Frequencies**:\n",
    "   - Calculate the frequency of each word in the corpus."
   ]
  },
  {
   "cell_type": "code",
   "execution_count": 3,
   "metadata": {},
   "outputs": [
    {
     "name": "stdout",
     "output_type": "stream",
     "text": [
      "defaultdict(<class 'int'>, {'This': 3, 'Ġis': 2, 'Ġthe': 1, 'ĠHugging': 1, 'ĠFace': 1, 'ĠCourse': 1, '.': 4, 'Ġchapter': 1, 'Ġabout': 1, 'Ġtokenization': 1, 'Ġsection': 1, 'Ġshows': 1, 'Ġseveral': 1, 'Ġtokenizer': 1, 'Ġalgorithms': 1, 'Hopefully': 1, ',': 1, 'Ġyou': 1, 'Ġwill': 1, 'Ġbe': 1, 'Ġable': 1, 'Ġto': 1, 'Ġunderstand': 1, 'Ġhow': 1, 'Ġthey': 1, 'Ġare': 1, 'Ġtrained': 1, 'Ġand': 1, 'Ġgenerate': 1, 'Ġtokens': 1})\n"
     ]
    }
   ],
   "source": [
    "from collections import defaultdict\n",
    "word_freqs = defaultdict(int)\n",
    "\n",
    "for text in corpus:\n",
    "    words_with_offsets = tokenizer.backend_tokenizer.pre_tokenizer.pre_tokenize_str(text)\n",
    "    new_words = [word for word, offset in words_with_offsets]\n",
    "    for word in new_words:\n",
    "        word_freqs[word] += 1\n",
    "print(word_freqs)"
   ]
  },
  {
   "cell_type": "markdown",
   "metadata": {},
   "source": [
    "4. **Compute Base Vocabulary**:\n",
    "   - Extract and sort all unique characters (alphabet) in the corpus."
   ]
  },
  {
   "cell_type": "code",
   "execution_count": 4,
   "metadata": {},
   "outputs": [
    {
     "name": "stdout",
     "output_type": "stream",
     "text": [
      "[',', '.', 'C', 'F', 'H', 'T', 'a', 'b', 'c', 'd', 'e', 'f', 'g', 'h', 'i', 'k', 'l', 'm', 'n', 'o', 'p', 'r', 's', 't', 'u', 'v', 'w', 'y', 'z', 'Ġ']\n"
     ]
    }
   ],
   "source": [
    "alphabet = []\n",
    "\n",
    "for word in word_freqs.keys():\n",
    "    for letter in word:\n",
    "        if letter not in alphabet:\n",
    "            alphabet.append(letter)\n",
    "alphabet.sort()\n",
    "print(alphabet)"
   ]
  },
  {
   "cell_type": "markdown",
   "metadata": {},
   "source": [
    "   - Include special tokens like GPT-2’s `<|endoftext|>`:"
   ]
  },
  {
   "cell_type": "code",
   "execution_count": 5,
   "metadata": {},
   "outputs": [],
   "source": [
    "vocab = [\"<|endoftext|>\"] + alphabet.copy()"
   ]
  },
  {
   "cell_type": "markdown",
   "metadata": {},
   "source": [
    "5. **Split Words into Characters**:\n",
    "   - Initialize word splits by breaking words into individual characters:"
   ]
  },
  {
   "cell_type": "code",
   "execution_count": 6,
   "metadata": {},
   "outputs": [],
   "source": [
    "splits = {word: [c for c in word] for word in word_freqs.keys()}"
   ]
  },
  {
   "cell_type": "markdown",
   "metadata": {},
   "source": [
    "6. **Compute Pair Frequencies**:\n",
    "   - Write a function to calculate the frequency of character pairs, which is essential for training the BPE merges:"
   ]
  },
  {
   "cell_type": "code",
   "execution_count": 7,
   "metadata": {},
   "outputs": [],
   "source": [
    "def compute_pair_freqs(splits):\n",
    "    pair_freqs = defaultdict(int)\n",
    "    for word, freq in word_freqs.items():\n",
    "        split = splits[word]\n",
    "        if len(split) == 1:\n",
    "            continue\n",
    "        for i in range(len(split) - 1):\n",
    "            pair = (split[i], split[i + 1])\n",
    "            pair_freqs[pair] += freq\n",
    "    return pair_freqs"
   ]
  },
  {
   "cell_type": "markdown",
   "metadata": {},
   "source": [
    "   - Example output for pair frequencies:"
   ]
  },
  {
   "cell_type": "code",
   "execution_count": 8,
   "metadata": {},
   "outputs": [
    {
     "name": "stdout",
     "output_type": "stream",
     "text": [
      "('T', 'h'): 3\n",
      "('h', 'i'): 3\n",
      "('i', 's'): 5\n",
      "('Ġ', 'i'): 2\n",
      "('Ġ', 't'): 7\n",
      "('t', 'h'): 3\n"
     ]
    }
   ],
   "source": [
    "pair_freqs = compute_pair_freqs(splits)\n",
    "\n",
    "for i, key in enumerate(pair_freqs.keys()):\n",
    "    print(f\"{key}: {pair_freqs[key]}\")\n",
    "    if i >= 5:\n",
    "        break"
   ]
  },
  {
   "cell_type": "markdown",
   "metadata": {},
   "source": [
    "- Find the most frequent pair"
   ]
  },
  {
   "cell_type": "code",
   "execution_count": 9,
   "metadata": {},
   "outputs": [
    {
     "name": "stdout",
     "output_type": "stream",
     "text": [
      "('Ġ', 't') 7\n"
     ]
    }
   ],
   "source": [
    "best_pair = \"\"\n",
    "max_freq = None\n",
    "\n",
    "for pair, freq in pair_freqs.items():\n",
    "    if max_freq is None or max_freq < freq:\n",
    "        best_pair = pair\n",
    "        max_freq = freq\n",
    "\n",
    "print(best_pair, max_freq)"
   ]
  },
  {
   "cell_type": "markdown",
   "metadata": {},
   "source": [
    "- The first merge to learn is ('Ġ', 't') -> 'Ġt'\n",
    "  - add 'Ġt' to the vocabulary"
   ]
  },
  {
   "cell_type": "code",
   "execution_count": 10,
   "metadata": {},
   "outputs": [],
   "source": [
    "merges = {(\"Ġ\", \"t\"): \"Ġt\"}\n",
    "vocab.append(\"Ġt\")"
   ]
  },
  {
   "cell_type": "markdown",
   "metadata": {},
   "source": [
    "- Apply that merge in the splits dictionary with another function"
   ]
  },
  {
   "cell_type": "code",
   "execution_count": 11,
   "metadata": {},
   "outputs": [
    {
     "name": "stdout",
     "output_type": "stream",
     "text": [
      "['Ġt', 'r', 'a', 'i', 'n', 'e', 'd']\n"
     ]
    }
   ],
   "source": [
    "def merge_pair(a, b, splits):\n",
    "    for word in word_freqs:\n",
    "        split = splits[word]\n",
    "        if len(split) == 1:\n",
    "            continue\n",
    "\n",
    "        i = 0\n",
    "        while i < len(split) - 1:\n",
    "            if split[i] == a and split[i + 1] == b:\n",
    "                split = split[:i] + [a + b] + split[i + 2 :]\n",
    "            else:\n",
    "                i += 1\n",
    "        splits[word] = split\n",
    "    return splits\n",
    "\n",
    "# The result of the first merge\n",
    "splits = merge_pair(\"Ġ\", \"t\", splits)\n",
    "print(splits[\"Ġtrained\"])"
   ]
  },
  {
   "cell_type": "markdown",
   "metadata": {},
   "source": [
    "- Loop until we have learned all the merges rules\n",
    "  - suppose a vocab size of 50:"
   ]
  },
  {
   "cell_type": "code",
   "execution_count": null,
   "metadata": {},
   "outputs": [],
   "source": [
    "vocab_size = 50\n",
    "\n",
    "while len(vocab) < vocab_size:\n",
    "    pair_freqs = compute_pair_freqs(splits)\n",
    "    best_pair = \"\"\n",
    "    max_freq = None\n",
    "    for pair, freq in pair_freqs.items():\n",
    "        if max_freq is None or max_freq < freq:\n",
    "            best_pair = pair\n",
    "            max_freq = freq\n",
    "    splits = merge_pair(*best_pair, splits)\n",
    "    merges[best_pair] = best_pair[0] + best_pair[1]\n",
    "    vocab.append(best_pair[0] + best_pair[1])"
   ]
  },
  {
   "cell_type": "markdown",
   "metadata": {},
   "source": [
    "- 19 merge rules learned \n",
    "   - the initial vocabulary had a size of 31 — 30 characters in the alphabet, \n",
    "   - plus the special token"
   ]
  },
  {
   "cell_type": "code",
   "execution_count": 13,
   "metadata": {},
   "outputs": [
    {
     "name": "stdout",
     "output_type": "stream",
     "text": [
      "19 :\n",
      " {('Ġ', 't'): 'Ġt', ('i', 's'): 'is', ('e', 'r'): 'er', ('Ġ', 'a'): 'Ġa', ('Ġt', 'o'): 'Ġto', ('e', 'n'): 'en', ('T', 'h'): 'Th', ('Th', 'is'): 'This', ('o', 'u'): 'ou', ('s', 'e'): 'se', ('Ġto', 'k'): 'Ġtok', ('Ġtok', 'en'): 'Ġtoken', ('n', 'd'): 'nd', ('Ġ', 'is'): 'Ġis', ('Ġt', 'h'): 'Ġth', ('Ġth', 'e'): 'Ġthe', ('i', 'n'): 'in', ('Ġa', 'b'): 'Ġab', ('Ġtoken', 'i'): 'Ġtokeni'}\n"
     ]
    }
   ],
   "source": [
    "print(len(merges), \":\\n\", merges)"
   ]
  },
  {
   "cell_type": "markdown",
   "metadata": {},
   "source": [
    "- The vocabulary is composed of \n",
    "  - the special token, \n",
    "  - the initial alphabet, \n",
    "  - and all the results of the merges"
   ]
  },
  {
   "cell_type": "code",
   "execution_count": 14,
   "metadata": {},
   "outputs": [
    {
     "name": "stdout",
     "output_type": "stream",
     "text": [
      "['<|endoftext|>', ',', '.', 'C', 'F', 'H', 'T', 'a', 'b', 'c', 'd', 'e', 'f', 'g', 'h', 'i', 'k', 'l', 'm', 'n', 'o', 'p', 'r', 's', 't', 'u', 'v', 'w', 'y', 'z', 'Ġ', 'Ġt', 'is', 'er', 'Ġa', 'Ġto', 'en', 'Th', 'This', 'ou', 'se', 'Ġtok', 'Ġtoken', 'nd', 'Ġis', 'Ġth', 'Ġthe', 'in', 'Ġab', 'Ġtokeni']\n"
     ]
    }
   ],
   "source": [
    "print(vocab)"
   ]
  },
  {
   "cell_type": "markdown",
   "metadata": {},
   "source": [
    "- To tokenize a new text, \n",
    "  - we pre-tokenize it, split it, \n",
    "  - then apply all the merge rules learned"
   ]
  },
  {
   "cell_type": "code",
   "execution_count": 15,
   "metadata": {},
   "outputs": [],
   "source": [
    "def tokenize(text):\n",
    "    pre_tokenize_result = tokenizer._tokenizer.pre_tokenizer.pre_tokenize_str(text)\n",
    "    pre_tokenized_text = [word for word, offset in pre_tokenize_result]\n",
    "    splits = [[l for l in word] for word in pre_tokenized_text]\n",
    "    for pair, merge in merges.items():\n",
    "        for idx, split in enumerate(splits):\n",
    "            i = 0\n",
    "            while i < len(split) - 1:\n",
    "                if split[i] == pair[0] and split[i + 1] == pair[1]:\n",
    "                    split = split[:i] + [merge] + split[i + 2 :]\n",
    "                else:\n",
    "                    i += 1\n",
    "            splits[idx] = split\n",
    "\n",
    "    return sum(splits, [])"
   ]
  },
  {
   "cell_type": "markdown",
   "metadata": {},
   "source": [
    "- Try this on any text composed of characters in the alphabet:"
   ]
  },
  {
   "cell_type": "code",
   "execution_count": 16,
   "metadata": {},
   "outputs": [
    {
     "data": {
      "text/plain": [
       "['This',\n",
       " 'Ġis',\n",
       " 'Ġ',\n",
       " 'n',\n",
       " 'a',\n",
       " 't',\n",
       " 'u',\n",
       " 'r',\n",
       " 'a',\n",
       " 'l',\n",
       " 'Ġ',\n",
       " 'l',\n",
       " 'a',\n",
       " 'n',\n",
       " 'g',\n",
       " 'u',\n",
       " 'a',\n",
       " 'g',\n",
       " 'e',\n",
       " 'Ġ',\n",
       " 'p',\n",
       " 'r',\n",
       " 'o',\n",
       " 'c',\n",
       " 'e',\n",
       " 's',\n",
       " 's',\n",
       " 'in',\n",
       " 'g',\n",
       " 'Ġ',\n",
       " 'B',\n",
       " 'P',\n",
       " 'E',\n",
       " 'Ġa',\n",
       " 'l',\n",
       " 'g',\n",
       " 'o',\n",
       " 'r',\n",
       " 'i',\n",
       " 't',\n",
       " 'h',\n",
       " 'm',\n",
       " '.']"
      ]
     },
     "execution_count": 16,
     "metadata": {},
     "output_type": "execute_result"
    }
   ],
   "source": [
    "tokenize(\"This is natural language processing BPE algorithm.\")"
   ]
  },
  {
   "cell_type": "markdown",
   "metadata": {},
   "source": [
    "## Unigram Algorithm**\n",
    "\n",
    "- Used in SentencePiece, applied in models like AlBERT, T5, mBART, Big Bird, and XLNet.\n",
    "- Unlike BPE and WordPiece, Unigram starts with a large vocabulary and prunes it down.\n",
    "\n",
    "\n",
    "### **Training Algorithm**\n",
    "\n",
    "- Begins with a large vocabulary\n",
    "  - Options for building initial vocabulary:\n",
    "    - Use the most common substrings in pre-tokenized words.\n",
    "    - Apply BPE with a large vocabulary size.\n",
    "- Vocabulary Pruning\n",
    "  - Computes loss for the corpus using the current vocabulary.\n",
    "  - Calculates the impact on loss if each symbol is removed.\n",
    "  - Removes the least impactful symbols until the desired vocabulary size is achieved.\n",
    "    - Base characters are never removed to ensure any word can be tokenized.\n",
    "\n",
    "---\n",
    "\n",
    "### **Tokenization Process**\n",
    "- **Concept**:\n",
    "  - Unigram is a language model where each token is independent.\n",
    "  - Probability of a token = (Frequency of the token) / (Sum of all frequencies in the vocabulary).\n",
    "- 🍎 **Example**: \n",
    "  - Given the corpus: \n",
    "    - (\"hug\", 10), (\"pug\", 5), (\"pun\", 12), (\"bun\", 4), (\"hugs\", 5)\n",
    "  - Initial vocabulary of all strict substrings: \n",
    "    - [\"h\", \"u\", \"g\", \"hu\", \"ug\", \"p\", \"pu\", \"n\", \"un\", \"b\", \"bu\", \"s\", \"hug\", \"gs\", \"ugs\"]\n",
    "  - Subword frequencies:\n",
    "    - (\"h\", 15) (\"u\", 36) (\"g\", 20) (\"hu\", 15) (\"ug\", 20) (\"p\", 17) (\"pu\", 17) (\"n\", 16)\n",
    "    - (\"un\", 16) (\"b\", 4) (\"bu\", 4) (\"s\", 5) (\"hug\", 15) (\"gs\", 5) (\"ugs\", 5)\n",
    "  - ∴ the sum of all frequencies is 210\n",
    "    - the probability of the subword \"ug\" is thus 20/210\n",
    "    - the probability of the subword \"ugs\" is thus 5/210\n",
    "\n",
    "---\n",
    "\n",
    "### **Finding Optimal Tokenization**\n",
    "- **Probability Computation**:\n",
    "  - Given a word, `segment it into tokens in all the possible segmentations` \n",
    "    - compute the probability p of each according to the Unigram model\n",
    "    - all tokens are considered independent, this probability is just the product of the probability of each token\n",
    "- Tokenization with the highest probability is selected.\n",
    "- 🍎 **Example**\n",
    "  - Given word \"pug\", all its possible segmentations\n",
    "    - p(['p','u','g']) = p('p') × p('u') × p('g') = (5/210)×(36/210)×(20/210) = 0.000389\n",
    "    - p(['p','ug']) = p('p') × p('ug') = (5/210)×(20/210) = 0.0022676\n",
    "    - p(['pu','g']) = p('pu') × p('g') = (5/210)×(20/210) = 0.0022676\n",
    "  - Tokenizations with the least tokens possible will have the highest probability\n",
    "    - Segmenations in a tie choose the first encountered\n",
    "\n",
    "---\n",
    "\n",
    "### **Viterbi Algorithm**\n",
    "- **Purpose**:\n",
    "  - Finds the most probable segmentation for a given word.\n",
    "- **Process**:\n",
    "  - Constructs a graph of possible segmentations.\n",
    "  - Determines the best path through the graph, ending in the highest score.\n",
    "- 🍎 **Example**\n",
    "  - Given the previous vocabulary, for each position in `unhug`, the subwords with the `best scores ending there` are the following\n",
    "    - Character 0 (u): \"u\" (score 0.171429)\n",
    "    - Character 1 (n): \"un\" (score 0.076191)\n",
    "    - Character 2 (h): \"un\" \"h\" (score 0.005442)\n",
    "    - Character 3 (u): \"un\" \"hu\" (score 0.005442)\n",
    "    - Character 4 (g): \"un\" \"hug\" (score 0.005442)\n",
    "  - ∴  \"unhug\" would be tokenized as [\"un\", \"hug\"].\n",
    "\n",
    "---\n",
    "\n",
    "### **Back to Training**\n",
    "- **Loss Computation**:\n",
    "  - `Loss` is the negative log likelihood of tokenization scores across the corpus.\n",
    "    - $\\displaystyle 𝓁(corpus) = ∑_{w∈corpus} -f(w)\\log(p(w))$\n",
    "- 🍎 **Example**: Loss computation for the previous corpus `(\"hug\", \"pug\", \"pun\", \"bun\", \"hugs\")`.\n",
    "  - \"hug\": [\"hug\"] (score 0.071428)\n",
    "  - \"pug\": [\"pu\", \"g\"] (score 0.007710)\n",
    "  - \"pun\": [\"pu\", \"n\"] (score 0.006168)\n",
    "  - \"bun\": [\"bu\", \"n\"] (score 0.001451)\n",
    "  - \"hugs\": [\"hug\", \"s\"] (score 0.001701)\n",
    "- ∴ loss = 10 * (-log(0.071428)) + 5 * (-log(0.007710)) + 12 * (-log(0.006168)) + 4 * (-log(0.001451)) + 5 * (-log(0.001701)) = 169.8\n",
    " \n",
    "---\n",
    "\n",
    "### **Example of Token Removal**\n",
    "- **Impact on Loss**:\n",
    "  - Demonstrates how removing tokens affects the loss.\n",
    "  - Example: Removing \"pu\" vs. removing \"hug\".\n",
    "\n",
    "\n"
   ]
  }
 ],
 "metadata": {
  "kernelspec": {
   "display_name": "Python 3",
   "language": "python",
   "name": "python3"
  },
  "language_info": {
   "codemirror_mode": {
    "name": "ipython",
    "version": 3
   },
   "file_extension": ".py",
   "mimetype": "text/x-python",
   "name": "python",
   "nbconvert_exporter": "python",
   "pygments_lexer": "ipython3",
   "version": "3.12.3"
  }
 },
 "nbformat": 4,
 "nbformat_minor": 2
}
