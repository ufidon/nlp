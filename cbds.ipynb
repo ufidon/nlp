{
 "cells": [
  {
   "cell_type": "markdown",
   "metadata": {},
   "source": [
    "<table align=\"left\">\n",
    "  <td>\n",
    "    <a href=\"https://colab.research.google.com/github/ufidon/nlp/blob/main/cbds.ipynb\" target=\"_parent\"><img src=\"https://colab.research.google.com/assets/colab-badge.svg\" alt=\"Open In Colab\"/></a>\n",
    "  </td>\n",
    "  <td>\n",
    "    <a target=\"_blank\" href=\"https://kaggle.com/kernels/welcome?src=https://github.com/ufidon/nlp/blob/main/cbds.ipynb\"><img src=\"https://kaggle.com/static/images/open-in-kaggle.svg\" /></a>\n",
    "  </td>\n",
    "</table>\n",
    "<br>\n",
    "\n",
    "**Chatbots & Dialogue Systems**\n",
    "\n",
    "- 📝 SALP chapter 15"
   ]
  },
  {
   "cell_type": "markdown",
   "metadata": {},
   "source": [
    "## Introduction\n",
    "- `Conversation` is a foundational aspect of language, learned early and used widely, driving the design of `interactive programs` such as \n",
    "  - `frame-based` dialogue systems for `structured tasks` \n",
    "  - `chatbots` for more flexible, `unstructured` conversations\n",
    "  - many modern systems blend both, as seen in tools like Siri and ChatGPT.\n",
    "\n",
    "- Early chatbot ELIZA, designed to simulate a therapist, used `simple pattern-matching and regular expressions`, creating responses that seemed personalized and led users to feel emotionally connected.\n",
    "  - Its responses were crafted based on `specific keywords`, allowing the system to adapt replies to certain words for more engaging interactions, sometimes using `general responses` when no keywords were matched.\n",
    "  - It demonstrated that users could become emotionally involved, often treating the system as a human, which led to behaviors typical of human interactions, like sharing personal issues.\n",
    "\n",
    "- `Emotional attachment` to chatbots raises privacy concerns; \n",
    "  - users tend to disclose private information more freely, increasing risks, especially when the chatbot seems more human-like.\n",
    "  - Privacy and emotional impact require careful consideration when designing and deploying chatbots,\n",
    "    - as they may inadvertently influence users' emotional well-being and cognitive states.\n",
    "- Chatbot usage, especially in `sensitive areas`, may need oversight, such as Institutional Review Board (IRB) approval, to ensure `ethical interaction` with human participants."
   ]
  },
  {
   "cell_type": "markdown",
   "metadata": {},
   "source": [
    "## Properties of Human Conversation\n",
    "- `Conversation Dynamics`\n",
    "   - Human conversation is a complex, joint activity requiring mutual understanding.\n",
    "   - Conversations are structured in `turns`, \n",
    "     - where each speaker contributes sequentially; \n",
    "     - `turn-taking` is essential for natural interaction, as speakers need to know when to start and stop talking.\n",
    "   - Dialogue systems must detect when a user has finished speaking to respond accurately, \n",
    "     - a task known as `endpoint detection`.\n",
    "\n",
    "- `Speech Acts`\n",
    "   - Each utterance in a conversation serves as a specific `speech act`, \n",
    "     - such as answering, requesting, or acknowledging.\n",
    "   - Speech acts are categorized into \n",
    "     - `Constatives` (statements), `Directives` (requests), `Commissives` (promises), and `Acknowledgments` (thanks), \n",
    "     - each reflecting the `speaker's intent`.\n",
    "   - Recognizing speech acts helps dialogue systems interpret user intentions and respond appropriately, \n",
    "     - such as answering questions or confirming details.\n",
    "`\n",
    "- `Grounding`\n",
    "   - *Grounding* is the process of confirming mutual understanding, \n",
    "     - often through `repeating or affirming` statements.\n",
    "     - Examples include saying \"OK\" or repeating key details, \n",
    "       - to establish mutual understanding and build common ground.\n",
    "   - Dialogue systems need grounding mechanisms to ensure they understand and maintain natural conversational flow.\n",
    "\n",
    "- `Dialogue Structure and Subdialogues`\n",
    "   - Conversations often follow structured patterns called `adjacency pairs`, \n",
    "     - like a `question and answer` or a `proposal and acceptance/rejection`.\n",
    "   - `Subdialogues` or side sequences, such as clarifications, \n",
    "     - can temporarily shift focus and require the system to manage interruptions and resume the main conversation.\n",
    "   - `Presequences`, or preliminary questions, set the stage for requests, \n",
    "     - like asking if the system can make reservations before making one.\n",
    "\n",
    "- `Initiative`\n",
    "   - *Initiative* in conversation can be held by one participant or shared; \n",
    "   - `mixed initiative` allows both parties to ask and answer questions, \n",
    "     - typical in human-human dialogue.\n",
    "   - Dialogue systems with full mixed initiative are challenging to build; \n",
    "     - many rely on either `system-initiative` (system-led) or `user-initiative` (user-led) approaches.\n",
    "\n",
    "- `Inference and Implicature`\n",
    "   - *Inference* and *implicature* enable systems to `deduce unstated information` from context, \n",
    "     - such as deducing travel dates based on a meeting time.\n",
    "   - Systems need to `interpret relevance and draw conclusions` beyond literal statements, \n",
    "     - a process crucial for `understanding implicit information` in human conversation."
   ]
  },
  {
   "cell_type": "markdown",
   "metadata": {},
   "source": [
    "-🏃 Practice from HuggingFace NLP\n",
    "  - [Summarization](https://huggingface.co/learn/nlp-course/en/chapter7/5?fw=pt)\n",
    "  - [Training a causal language model from scratch](https://huggingface.co/learn/nlp-course/en/chapter7/5?fw=pt)"
   ]
  },
  {
   "cell_type": "code",
   "execution_count": null,
   "metadata": {},
   "outputs": [],
   "source": []
  }
 ],
 "metadata": {
  "language_info": {
   "name": "python"
  }
 },
 "nbformat": 4,
 "nbformat_minor": 2
}
