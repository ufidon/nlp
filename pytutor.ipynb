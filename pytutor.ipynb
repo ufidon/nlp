{
 "cells": [
  {
   "cell_type": "markdown",
   "metadata": {},
   "source": [
    "# Python programming tutorial\n",
    "\n",
    "<table align=\"left\">\n",
    "  <td>\n",
    "    <a href=\"https://colab.research.google.com/github/ufidon/nlp/blob/main/pytutor.ipynb\" target=\"_parent\"><img src=\"https://colab.research.google.com/assets/colab-badge.svg\" alt=\"Open In Colab\"/></a>\n",
    "  </td>\n",
    "  <td>\n",
    "    <a target=\"_blank\" href=\"https://kaggle.com/kernels/welcome?src=https://github.com/ufidon/nlp/blob/main/pytutor.ipynb\"><img src=\"https://kaggle.com/static/images/open-in-kaggle.svg\" /></a>\n",
    "  </td>\n",
    "</table>"
   ]
  },
  {
   "cell_type": "markdown",
   "metadata": {},
   "source": [
    "## Python basics"
   ]
  },
  {
   "cell_type": "markdown",
   "metadata": {},
   "source": [
    "### Basic data types\n",
    "- Numbers: integers and floats\n",
    "- Booleans\n",
    "- Strings"
   ]
  },
  {
   "cell_type": "code",
   "execution_count": null,
   "metadata": {},
   "outputs": [],
   "source": [
    "# 1. Numbers\n",
    "print(\"1. Integers and floats\")\n",
    "a, b, x, y = 3, 4, 2.5, 3.14\n",
    "print(a, b, x, y)\n",
    "print(f\"{a}: {type(a)}; {b}: {type(b)}; {x}: {type(x)}; {y}:{type(y)}\")\n"
   ]
  },
  {
   "cell_type": "code",
   "execution_count": null,
   "metadata": {},
   "outputs": [],
   "source": [
    "# 1.1 arithmetic\n",
    "print(f\"{a}+{b} = {a+b}\")\n",
    "print(f\"{a}-{b} = {a-b}\")\n",
    "print(f\"{a}*{b} = {a*b}\")\n",
    "print(f\"{a}/{b} = {a/b}\")\n",
    "print(f\"{a}//{b} = {a//b}\")\n",
    "print(f\"{a}%{b} = {a%b}\")\n",
    "print(f\"{a}**{b} = {a**b}\")"
   ]
  },
  {
   "cell_type": "code",
   "execution_count": null,
   "metadata": {},
   "outputs": [],
   "source": [
    "# 1.2 compound operators\n",
    "print(f\"{a=}, {b=}, {x=}, {y=}\")\n",
    "a += b; b -= a; x *= y; y /= x;\n",
    "print(\"a=%d, b=%d, x=%f, y=%g\" % (a, b, x, y))"
   ]
  },
  {
   "cell_type": "code",
   "execution_count": null,
   "metadata": {},
   "outputs": [],
   "source": [
    "# 2. booleans\n",
    "t, f = True, False\n",
    "print(f\"{t=}, {type(t)}; {f=}, {type(f)}\")"
   ]
  },
  {
   "cell_type": "code",
   "execution_count": null,
   "metadata": {},
   "outputs": [],
   "source": [
    "# 2.1 logical operators\n",
    "print(f\"t and f = {t and f}\\n t or f = {t or f}\\n not t = {not t}\")\n",
    "print(f\"t != f is {t!=f}\\n t == f is {t==f}\")"
   ]
  },
  {
   "cell_type": "code",
   "execution_count": null,
   "metadata": {},
   "outputs": [],
   "source": [
    "# 2.2 comparison operators\n",
    "a,b,y = 3,4,3.14\n",
    "a < y < b"
   ]
  },
  {
   "cell_type": "code",
   "execution_count": null,
   "metadata": {},
   "outputs": [],
   "source": [
    "# 3. strings\n",
    "fname = 'Donald'\n",
    "lname = \"Trump\"\n",
    "print('Hello {} {} {}'.format(fname, lname, \"!\"))"
   ]
  },
  {
   "cell_type": "code",
   "execution_count": null,
   "metadata": {},
   "outputs": [],
   "source": [
    "name = fname + ' ' + lname\n",
    "print(name)"
   ]
  },
  {
   "cell_type": "code",
   "execution_count": null,
   "metadata": {},
   "outputs": [],
   "source": [
    "print(f'The length of string \"{name}\" = {len(name)}')"
   ]
  },
  {
   "cell_type": "code",
   "execution_count": null,
   "metadata": {},
   "outputs": [],
   "source": [
    "# 3.1 string method\n",
    "print(name.upper())\n",
    "print(name.lower())\n",
    "print(name.capitalize())\n",
    "print(name.ljust(20))\n",
    "print(name.center(20))\n",
    "print(name.rjust(20))\n",
    "print(name.replace('T', ':)'))"
   ]
  },
  {
   "cell_type": "markdown",
   "metadata": {},
   "source": [
    "### Basic data structures\n",
    "- list\n",
    "- dictionary\n",
    "- set\n",
    "- tuple"
   ]
  },
  {
   "cell_type": "code",
   "execution_count": null,
   "metadata": {},
   "outputs": [],
   "source": [
    "# 1. list\n",
    "# resizable, may contain elements of different types\n",
    "m = [3, 4, 3.14, 'Trump']\n",
    "print(f'{m=}; {type(m)}')"
   ]
  },
  {
   "cell_type": "code",
   "execution_count": null,
   "metadata": {},
   "outputs": [],
   "source": [
    "# 1.1 indexing a list\n",
    "print(f'{m[0]=} {m[3]=} {m[-1]=} {m[-2]=}')"
   ]
  },
  {
   "cell_type": "code",
   "execution_count": null,
   "metadata": {},
   "outputs": [],
   "source": [
    "# 1.2 slicing a list: left close, right open\n",
    "m += [5, 'biden', '💔🥀💋']\n",
    "print(f'{m=}')\n",
    "print(f'{m[:3]=}')\n",
    "print(f'{m[4:]=}')\n",
    "print(f'{m[2:5]=}')\n",
    "print(f'{m[:]=}')\n",
    "print(f'{m[:-1]=}')\n",
    "print(f'{m[-4:-1]=}')\n",
    "print(f'{m[2:-1]=}')\n",
    "m[-3:] = ['💕💓💖', '💐🌹', '💘💝💞']\n",
    "print(f'{m=}')"
   ]
  },
  {
   "cell_type": "code",
   "execution_count": null,
   "metadata": {},
   "outputs": [],
   "source": [
    "# 1.3 list method\n",
    "m.append('💎')\n",
    "print(f'{m=}')\n",
    "who = m.pop()\n",
    "print(f'{m=} {who=}')"
   ]
  },
  {
   "cell_type": "code",
   "execution_count": null,
   "metadata": {},
   "outputs": [],
   "source": [
    "# 1.4 convert a string to a list\n",
    "schess = '♚♛♜♝♞♟♔♕♖♗♘♙'\n",
    "chess = list(schess)\n",
    "print(f'{chess=}')"
   ]
  },
  {
   "cell_type": "code",
   "execution_count": null,
   "metadata": {},
   "outputs": [],
   "source": [
    "# 1.5 loop over the elements of a list\n",
    "for c in chess:\n",
    "  print(c, end=' ')"
   ]
  },
  {
   "cell_type": "code",
   "execution_count": null,
   "metadata": {},
   "outputs": [],
   "source": [
    "for i, c in enumerate(chess):\n",
    "  print('#{1}: {0}'.format(c, i+1))"
   ]
  },
  {
   "cell_type": "code",
   "execution_count": null,
   "metadata": {},
   "outputs": [],
   "source": [
    "# 1.6 apply the same operation on each list element\n",
    "# 1.6.1 using loops\n",
    "nums = list(range(7))\n",
    "plus3 = []\n",
    "for n in nums:\n",
    "  plus3.append(n+3)\n",
    "print(f'{nums=} {plus3=}')"
   ]
  },
  {
   "cell_type": "code",
   "execution_count": null,
   "metadata": {},
   "outputs": [],
   "source": [
    "# 1.6.2 using list comprehension\n",
    "squares = [n*n for n in nums]\n",
    "print(f'{squares=}')"
   ]
  },
  {
   "cell_type": "code",
   "execution_count": null,
   "metadata": {},
   "outputs": [],
   "source": [
    "# 1.6.3 apply filter on list elements\n",
    "odds = [n for n in nums if n%2 == 1]\n",
    "print(f'{odds=}')"
   ]
  },
  {
   "cell_type": "code",
   "execution_count": null,
   "metadata": {},
   "outputs": [],
   "source": [
    "# 2. dictionaries\n",
    "# stores (key, value) pairs\n",
    "presidents = {'Trump': [1946, 45], 'Biden': [1942, 46]}\n",
    "print(f'{presidents[\"Biden\"]=}')\n",
    "print(f'Is Pense a president? {\"Pense\" in presidents}')\n"
   ]
  },
  {
   "cell_type": "code",
   "execution_count": null,
   "metadata": {},
   "outputs": [],
   "source": [
    "presidents['Pense'] = [1959, 48]\n",
    "print(f'{presidents=}')"
   ]
  },
  {
   "cell_type": "code",
   "execution_count": null,
   "metadata": {},
   "outputs": [],
   "source": [
    "print(f'{presidents[\"Obama\"]=}')"
   ]
  },
  {
   "cell_type": "code",
   "execution_count": null,
   "metadata": {},
   "outputs": [],
   "source": [
    "print(presidents.get('Obama', 'Not in the list'))\n",
    "print(presidents.get('Pense', 'Not in the list'))"
   ]
  },
  {
   "cell_type": "code",
   "execution_count": null,
   "metadata": {},
   "outputs": [],
   "source": [
    "del presidents['Pense']\n",
    "print(presidents.get('Pense', 'Not in the list'))"
   ]
  },
  {
   "cell_type": "code",
   "execution_count": null,
   "metadata": {},
   "outputs": [],
   "source": [
    "for president, [birth, order] in presidents.items():\n",
    "  print(f'{president} is born on {birth} and the {order}-th USA president')"
   ]
  },
  {
   "cell_type": "code",
   "execution_count": null,
   "metadata": {},
   "outputs": [],
   "source": [
    "# dictionary comprehension\n",
    "nd = {i+3:n**3 for i,n in enumerate(range(5)) if n%2==0}\n",
    "print(f'{nd=}')"
   ]
  },
  {
   "cell_type": "code",
   "execution_count": null,
   "metadata": {},
   "outputs": [],
   "source": [
    "# 3. set\n",
    "# an unordered collection of distinct elements\n",
    "atoms = {'Hydrogen', 'Helium', 'Oxygen'}\n",
    "print(f'Hydrogen in atoms? {\"Hydrogen\" in atoms}')\n",
    "print(f'Fe in atoms? {\"Fe\" in atoms}')"
   ]
  },
  {
   "cell_type": "code",
   "execution_count": null,
   "metadata": {},
   "outputs": [],
   "source": [
    "atoms.add('Fe')\n",
    "print(f'there are {len(atoms)} atoms in the set')\n",
    "atoms.remove('Hydrogen')\n",
    "print(f'there are {len(atoms)} atoms in the set')"
   ]
  },
  {
   "cell_type": "code",
   "execution_count": null,
   "metadata": {},
   "outputs": [],
   "source": [
    "# loop over a set, the order is not necessarily the same as listed\n",
    "for i, a in enumerate(atoms):\n",
    "  print(f'#{i+1}: {a.upper()}')"
   ]
  },
  {
   "cell_type": "code",
   "execution_count": null,
   "metadata": {},
   "outputs": [],
   "source": [
    "# 4. tuple\n",
    "# an immutable ordered list\n",
    "# can be used as keys in dictionaries and elements of sets while lists can't\n",
    "points = {(x,y): (x,y) for (x,y) in zip(range(5),range(5))}\n",
    "print(f'{points=}')\n",
    "p = (3,3)\n",
    "print(f'{points[p]=}  {points[(4,4)]=}')"
   ]
  },
  {
   "cell_type": "markdown",
   "metadata": {},
   "source": [
    "### Functions"
   ]
  },
  {
   "cell_type": "code",
   "execution_count": null,
   "metadata": {},
   "outputs": [],
   "source": [
    "def length(x,y):\n",
    "  import math\n",
    "  return math.sqrt(x*x + y*y)\n",
    "\n",
    "for (x,y) in [(3,4), [6, 8], (5,12), (7,24), (9,40)]:\n",
    "  print(f'vector ({x},{y}) has length of {length(x,y)}')"
   ]
  },
  {
   "cell_type": "code",
   "execution_count": null,
   "metadata": {},
   "outputs": [],
   "source": [
    "def greeting(who, greet='Hello'):\n",
    "  return f'{greet} {who}!'\n",
    "\n",
    "print(greeting('Trump'))\n",
    "print(greeting('Trump', 'Good afternoon'))\n",
    "print(greeting(greet='Good evening', who='Biden'))"
   ]
  },
  {
   "cell_type": "code",
   "execution_count": null,
   "metadata": {},
   "outputs": [],
   "source": [
    "def norm(vector:list) -> float:\n",
    "  import math as m\n",
    "  from functools import reduce\n",
    "  if len(vector) == 0:\n",
    "    return 0\n",
    "  elif len(vector) == 1:\n",
    "    return m.fabs(vector[0])\n",
    "  else:\n",
    "    sumofsquares = reduce(lambda a,b: a+b, [e*e for e in vector], 0)\n",
    "    return m.sqrt(sumofsquares)\n",
    "  \n",
    "for v in ([-2.3], [3,4], [1,2,3,4]):\n",
    "  print(f'norm({v}) = {norm(v)}')"
   ]
  },
  {
   "cell_type": "markdown",
   "metadata": {},
   "source": [
    "### Classes"
   ]
  },
  {
   "cell_type": "code",
   "execution_count": null,
   "metadata": {},
   "outputs": [],
   "source": [
    "class President:\n",
    "  # constructor\n",
    "  def __init__(self, name, birth, order) -> None:\n",
    "    self.name = name\n",
    "    self.birth = birth\n",
    "    self.order = order\n",
    "    \n",
    "  def __str__(self) -> str:\n",
    "    return f'{self.name}, the {self.order}-th US president, is born on {self.birth}.'\n",
    "  \n",
    "  def speech(self, location):\n",
    "    print(f'president {self.name} is making a speech at {location}.')\n",
    "    \n",
    "d = President('Trump', 1946, 45)\n",
    "print(d)\n",
    "d.speech('Trump Tower')\n",
    "  \n"
   ]
  },
  {
   "cell_type": "markdown",
   "metadata": {},
   "source": [
    "# References\n",
    "- [Learn Python](https://learnpython.org/)\n",
    "- [The Python tutorial](https://docs.python.org/3/tutorial/index.html)\n",
    "- [The Python Standard Library](https://docs.python.org/3.12/library/index.html)\n",
    "- [The Python Language Reference](https://docs.python.org/3.12/reference/index.html)"
   ]
  },
  {
   "cell_type": "markdown",
   "metadata": {},
   "source": []
  }
 ],
 "metadata": {
  "kernelspec": {
   "display_name": "Python 3",
   "language": "python",
   "name": "python3"
  },
  "language_info": {
   "codemirror_mode": {
    "name": "ipython",
    "version": 3
   },
   "file_extension": ".py",
   "mimetype": "text/x-python",
   "name": "python",
   "nbconvert_exporter": "python",
   "pygments_lexer": "ipython3",
   "version": "3.11.6"
  }
 },
 "nbformat": 4,
 "nbformat_minor": 2
}
